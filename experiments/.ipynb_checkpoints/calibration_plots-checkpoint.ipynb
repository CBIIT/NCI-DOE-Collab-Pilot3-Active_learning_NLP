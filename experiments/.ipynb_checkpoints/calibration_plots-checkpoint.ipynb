{
 "cells": [
  {
   "cell_type": "code",
   "execution_count": 13,
   "metadata": {},
   "outputs": [],
   "source": [
    "import sys\n",
    "sys.path.append('../')\n",
    "from datasets import TwentyNewsGroups, PathologyReports\n",
    "from feature_extraction.feature_extraction import BERT, BOW_DimReduction\n",
    "# from classifiers.bayesian.BayesianLinearClassifier import BayesianLinearClassifier\n",
    "# from classifiers.bayesian.BayesianNeuralNet import BayesianNeuralNet\n",
    "from classifiers.bayesian.NeuralNet_BBB import BayesianNeuralNet_BBB\n",
    "from classifiers.deterministic.LogisticClassifier import LogisticClassifier\n",
    "from classifiers.deterministic.NeuralNetwork import NeuralNet\n",
    "from design import ActiveLearningLoop\n",
    "import numpy as np\n",
    "# from sklearn.calibration import calibration_curve\n",
    "import matplotlib.pyplot as plt\n",
    "import sklearn.metrics as skm\n"
   ]
  },
  {
   "cell_type": "code",
   "execution_count": 14,
   "metadata": {},
   "outputs": [],
   "source": [
    "def dataset_split(dataset, train_perc, test_perc):\n",
    "\n",
    "    # run_directory = os.path.join(directory, 'run_{}'.format(run_i + 1))\n",
    "    # perform stratified train/test/unlabel split\n",
    "    ids_train = np.array([], dtype=int)\n",
    "    ids_test = np.array([], dtype=int)\n",
    "    ids_unlab = np.array([], dtype=int)\n",
    "    for c in np.unique(dataset.y):\n",
    "        # get all samples with label c\n",
    "        ids_class = np.where(dataset.y == c)[0]\n",
    "        idx = np.random.permutation(ids_class.size)\n",
    "\n",
    "        nb_test = int(test_perc * ids_class.size)\n",
    "        nb_train = int(train_perc * ids_class.size)\n",
    "\n",
    "        ids_train = np.concatenate([ids_train,\n",
    "                                    ids_class[idx[:nb_train]].copy()])\n",
    "        ids_test = np.concatenate([ids_test,\n",
    "                                   ids_class[idx[nb_train:(nb_train + nb_test)]].copy()])\n",
    "        # ids_unlab = np.concatenate([ids_unlab,\n",
    "        #                             ids_class[idx[(nb_train + nb_test):]].copy()])\n",
    "\n",
    "    # shuffle data from all classes\n",
    "    np.random.shuffle(ids_train)\n",
    "    np.random.shuffle(ids_test)\n",
    "    # np.random.shuffle(ids_unlab)\n",
    "\n",
    "    # add one dataset object to each model\n",
    "    dataset.data_split(ids_train, ids_unlab, ids_test)\n",
    "    return dataset"
   ]
  },
  {
   "cell_type": "code",
   "execution_count": 15,
   "metadata": {},
   "outputs": [],
   "source": [
    "def calibration_curve(y_true, y_prob, n_bins=10):\n",
    "\n",
    "    y_true, y_prob = y_true.ravel(), y_prob.ravel()\n",
    "    \n",
    "    bins = np.linspace(0., 1. + 1e-8, n_bins + 1)\n",
    "    binids = np.digitize(y_prob, bins) - 1\n",
    "    bin_sums = np.bincount(binids, weights=y_prob, minlength=len(bins))\n",
    "    bin_true = np.bincount(binids, weights=y_true, minlength=len(bins))\n",
    "    bin_total = np.bincount(binids, minlength=len(bins))\n",
    "    \n",
    "    nonzero = bin_total != 0\n",
    "    prob_true = (bin_true[nonzero] / bin_total[nonzero])\n",
    "    prob_pred = (bin_sums[nonzero] / bin_total[nonzero])\n",
    "    \n",
    "    residual = np.absolute(prob_true - prob_pred).ravel()\n",
    "    weights = bin_total[nonzero]/bin_total.sum().ravel()\n",
    "    print('Bin total: {}'.format(bin_total))\n",
    "    print('Residual: {}'.format(residual))\n",
    "    print('Weights: {}'.format(weights))\n",
    "\n",
    "    ece = 100*np.average(residual, weights=weights)\n",
    "    return prob_true, prob_pred, ece\n"
   ]
  },
  {
   "cell_type": "code",
   "execution_count": 17,
   "metadata": {},
   "outputs": [
    {
     "name": "stdout",
     "output_type": "stream",
     "text": [
      "Feature already extracted. Loading it ...\n",
      "Bin total: [173   6   3   2   5  10   6   6   9 205   0]\n",
      "Residual: [0.00508656 0.03316985 0.08599864 0.1481725  0.05042    0.04240459\n",
      " 0.01726146 0.09475154 0.0312896  0.00078605]\n",
      "Weights: [0.40705882 0.01411765 0.00705882 0.00470588 0.01176471 0.02352941\n",
      " 0.01411765 0.01411765 0.02117647 0.48235294]\n"
     ]
    },
    {
     "name": "stderr",
     "output_type": "stream",
     "text": [
      "/Users/goncalves1/local/anaconda3/envs/nci_pilot3/lib/python3.7/site-packages/sklearn/linear_model/logistic.py:758: ConvergenceWarning: lbfgs failed to converge. Increase the number of iterations.\n",
      "  \"of iterations.\", ConvergenceWarning)\n"
     ]
    },
    {
     "ename": "TypeError",
     "evalue": "only size-1 arrays can be converted to Python scalars",
     "output_type": "error",
     "traceback": [
      "\u001b[0;31m---------------------------------------------------------------------------\u001b[0m",
      "\u001b[0;31mTypeError\u001b[0m                                 Traceback (most recent call last)",
      "\u001b[0;32m<ipython-input-17-8c0d7f395c5d>\u001b[0m in \u001b[0;36m<module>\u001b[0;34m\u001b[0m\n\u001b[1;32m     16\u001b[0m     \u001b[0myhat\u001b[0m \u001b[0;34m=\u001b[0m \u001b[0mc\u001b[0m\u001b[0;34m.\u001b[0m\u001b[0mpredict\u001b[0m\u001b[0;34m(\u001b[0m\u001b[0mdataset\u001b[0m\u001b[0;34m.\u001b[0m\u001b[0mtest\u001b[0m\u001b[0;34m[\u001b[0m\u001b[0;34m'x'\u001b[0m\u001b[0;34m]\u001b[0m\u001b[0;34m)\u001b[0m\u001b[0;34m\u001b[0m\u001b[0;34m\u001b[0m\u001b[0m\n\u001b[1;32m     17\u001b[0m     \u001b[0mfp\u001b[0m\u001b[0;34m,\u001b[0m \u001b[0mmpv\u001b[0m\u001b[0;34m,\u001b[0m \u001b[0mece\u001b[0m \u001b[0;34m=\u001b[0m \u001b[0mcalibration_curve\u001b[0m\u001b[0;34m(\u001b[0m\u001b[0mdataset\u001b[0m\u001b[0;34m.\u001b[0m\u001b[0mtest\u001b[0m\u001b[0;34m[\u001b[0m\u001b[0;34m'y'\u001b[0m\u001b[0;34m]\u001b[0m\u001b[0;34m,\u001b[0m \u001b[0myhat\u001b[0m\u001b[0;34m[\u001b[0m\u001b[0;34m:\u001b[0m\u001b[0;34m,\u001b[0m \u001b[0;36m1\u001b[0m\u001b[0;34m]\u001b[0m\u001b[0;34m,\u001b[0m \u001b[0mn_bins\u001b[0m\u001b[0;34m=\u001b[0m\u001b[0;36m10\u001b[0m\u001b[0;34m)\u001b[0m\u001b[0;34m\u001b[0m\u001b[0;34m\u001b[0m\u001b[0m\n\u001b[0;32m---> 18\u001b[0;31m     \u001b[0macc\u001b[0m \u001b[0;34m=\u001b[0m \u001b[0mskm\u001b[0m\u001b[0;34m.\u001b[0m\u001b[0maccuracy_score\u001b[0m\u001b[0;34m(\u001b[0m\u001b[0mdataset\u001b[0m\u001b[0;34m.\u001b[0m\u001b[0mtest\u001b[0m\u001b[0;34m[\u001b[0m\u001b[0;34m'y'\u001b[0m\u001b[0;34m]\u001b[0m\u001b[0;34m,\u001b[0m \u001b[0mint\u001b[0m\u001b[0;34m(\u001b[0m\u001b[0myhat\u001b[0m\u001b[0;34m[\u001b[0m\u001b[0;34m:\u001b[0m\u001b[0;34m,\u001b[0m \u001b[0;36m1\u001b[0m\u001b[0;34m]\u001b[0m\u001b[0;34m)\u001b[0m\u001b[0;34m)\u001b[0m\u001b[0;34m\u001b[0m\u001b[0;34m\u001b[0m\u001b[0m\n\u001b[0m\u001b[1;32m     19\u001b[0m     \u001b[0mplt\u001b[0m\u001b[0;34m.\u001b[0m\u001b[0mplot\u001b[0m\u001b[0;34m(\u001b[0m\u001b[0mmpv\u001b[0m\u001b[0;34m,\u001b[0m \u001b[0mfp\u001b[0m\u001b[0;34m,\u001b[0m \u001b[0mlabel\u001b[0m\u001b[0;34m=\u001b[0m\u001b[0;34m'%s (ECE: %.2f | ACC: %.2f)'\u001b[0m\u001b[0;34m%\u001b[0m \u001b[0;34m(\u001b[0m\u001b[0mc\u001b[0m\u001b[0;34m.\u001b[0m\u001b[0m__str__\u001b[0m\u001b[0;34m(\u001b[0m\u001b[0;34m)\u001b[0m\u001b[0;34m,\u001b[0m \u001b[0mece\u001b[0m\u001b[0;34m,\u001b[0m \u001b[0macc\u001b[0m\u001b[0;34m)\u001b[0m\u001b[0;34m)\u001b[0m\u001b[0;34m\u001b[0m\u001b[0;34m\u001b[0m\u001b[0m\n\u001b[1;32m     20\u001b[0m \u001b[0;34m\u001b[0m\u001b[0m\n",
      "\u001b[0;31mTypeError\u001b[0m: only size-1 arrays can be converted to Python scalars"
     ]
    }
   ],
   "source": [
    "# dataset = TwentyNewsGroups('BOW_DimReduction')\n",
    "#fe = BOW_DimReduction(features_dim=100, projection='PCA', remove_stop_words=True)\n",
    "# fe = BOW_TopicModel(nb_topics=30)\n",
    "fe = BERT(sentence_len=30)\n",
    "\n",
    "dataset = TwentyNewsGroups(fe)\n",
    "# dataset = PathologyReports('GTKum', fe)\n",
    "\n",
    "dataset.prepare()\n",
    "dataset = dataset_split(dataset, 0.6, 0.4)\n",
    "\n",
    "clf = [LogisticClassifier(), NeuralNet(), BayesianNeuralNet_BBB()]\n",
    "\n",
    "for c in clf:\n",
    "    c.fit(dataset.train['x'], dataset.train['y'])\n",
    "    yhat = c.predict(dataset.test['x'])\n",
    "    fp, mpv, ece = calibration_curve(dataset.test['y'], yhat[:, 1], n_bins=10)\n",
    "    acc = skm.accuracy_score(dataset.test['y'], yhat[:, 1].ravel().astype(int))\n",
    "    plt.plot(mpv, fp, label='%s (ECE: %.2f | ACC: %.2f)'% (c.__str__(), ece, acc))\n",
    "    \n",
    "plt.plot([0, 1], [0, 1], 'r:')\n",
    "plt.ylabel(\"Fraction of positives\")\n",
    "plt.xlabel(\"Mean predicted value\")\n",
    "plt.legend()\n",
    "\n",
    "\n",
    "\n",
    "                               "
   ]
  },
  {
   "cell_type": "code",
   "execution_count": null,
   "metadata": {},
   "outputs": [],
   "source": []
  }
 ],
 "metadata": {
  "kernelspec": {
   "display_name": "Python 3",
   "language": "python",
   "name": "python3"
  },
  "language_info": {
   "codemirror_mode": {
    "name": "ipython",
    "version": 3
   },
   "file_extension": ".py",
   "mimetype": "text/x-python",
   "name": "python",
   "nbconvert_exporter": "python",
   "pygments_lexer": "ipython3",
   "version": "3.7.2"
  }
 },
 "nbformat": 4,
 "nbformat_minor": 2
}
